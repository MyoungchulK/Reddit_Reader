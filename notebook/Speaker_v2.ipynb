{
 "cells": [
  {
   "cell_type": "code",
   "execution_count": 1,
   "id": "b17345fd",
   "metadata": {},
   "outputs": [],
   "source": [
    "import os\n",
    "from dotenv import load_dotenv\n",
    "load_dotenv()\n",
    "import pandas as pd\n",
    "from tqdm import tqdm\n",
    "from gtts import gTTS"
   ]
  },
  {
   "cell_type": "code",
   "execution_count": 16,
   "id": "4fb6e09b",
   "metadata": {},
   "outputs": [
    {
     "data": {
      "text/plain": [
       "(['top_post_month_2024_06_16_08_28_08',\n",
       "  'top_post_month_2024_06_16_12_36_48',\n",
       "  'top_post_month_2024_06_16_12_35_13',\n",
       "  'top_post_month_2024_06_16_12_47_25'],\n",
       " ['/Users/mkim/code/Reddit_Reader/csv/top_post_month_2024_06_16_08_28_08.csv',\n",
       "  '/Users/mkim/code/Reddit_Reader/csv/top_post_month_2024_06_16_12_36_48.csv',\n",
       "  '/Users/mkim/code/Reddit_Reader/csv/top_post_month_2024_06_16_12_35_13.csv',\n",
       "  '/Users/mkim/code/Reddit_Reader/csv/top_post_month_2024_06_16_12_47_25.csv'])"
      ]
     },
     "execution_count": 16,
     "metadata": {},
     "output_type": "execute_result"
    }
   ],
   "source": [
    "dat_path = '../csv/'\n",
    "dat_list = os.listdir(dat_path)\n",
    "dat_list_name = [os.path.splitext(dats)[0] for dats in dat_list]\n",
    "dat_list_path = [os.path.abspath(os.path.join(dat_path, dats)) for dats in dat_list]\n",
    "dat_list_name, dat_list_path"
   ]
  },
  {
   "cell_type": "code",
   "execution_count": 21,
   "id": "92413019",
   "metadata": {},
   "outputs": [
    {
     "data": {
      "text/plain": [
       "(Index(['title', 'post_text', 'id', 'score', 'total_comments', 'post_url',\n",
       "        'comments'],\n",
       "       dtype='object'),\n",
       " (42, 7))"
      ]
     },
     "execution_count": 21,
     "metadata": {},
     "output_type": "execute_result"
    }
   ],
   "source": [
    "file_idx = -1\n",
    "posts_df = pd.read_csv(dat_list_path[file_idx], index_col = 0)\n",
    "posts_df.columns, posts_df.shape"
   ]
  },
  {
   "cell_type": "code",
   "execution_count": 23,
   "id": "601d80e9",
   "metadata": {},
   "outputs": [
    {
     "name": "stderr",
     "output_type": "stream",
     "text": [
      "\r",
      "  0%|                                                    | 0/42 [00:00<?, ?it/s]"
     ]
    },
    {
     "name": "stdout",
     "output_type": "stream",
     "text": [
      "Error getting submitted with mobile user-agent header\n",
      "EDIT: This issue is fixed for me as of 05/31/2024 14:17:12 UTC\n",
      "\n",
      "This just started happening today with an existing app that has been working for years.\n",
      "\n",
      "`https://oauth.reddit.com/user/BlobAndHisBoy/submitted.json?sort=new` works fine unless my `user-agent` header contains `Android`. If it contains `Android` I get a 301 redirect to `/user/BlobAndHisBoy/submitted.json/?sort=new` which is just a \"Page not found\" page.\n"
     ]
    },
    {
     "name": "stderr",
     "output_type": "stream",
     "text": [
      "100%|███████████████████████████████████████████| 42/42 [00:11<00:00,  3.79it/s]"
     ]
    },
    {
     "name": "stdout",
     "output_type": "stream",
     "text": [
      "['Yes, I\\'ve been having the same issue for days. When the User-Agent string contains the word \"Android,\" it breaks the response.', 'Not sure if this is related but Boost reddit also has stopped working.', 'Anything I can do to fix this? Using boost for reddit on a Pixel.\\xa0', 'Save you folks some time: Sync is also broken.', 'This issue looks to be fixed for me now.', 'This was in fact a bug, and it even affected the Reddit Android app too. A fix was rolled out on Friday. Thank you to everyone who submitted the bug and provided details, it helped us to investigate and narrow it down.']\n"
     ]
    },
    {
     "name": "stderr",
     "output_type": "stream",
     "text": [
      "\n"
     ]
    }
   ],
   "source": [
    "language = 'en'\n",
    "au_path = os.path.abspath('../audio')\n",
    "lists = ['title', 'post_text', 'comments']\n",
    "\n",
    "for row in tqdm(range(posts_df.shape[0])):\n",
    "    rows = posts_df.iloc[row]\n",
    "    \n",
    "    for li in lists:\n",
    "        myobj = gTTS(text = rows[li], lang = language)\n",
    "        \n",
    "        file_name = f'{dat_list_name[file_idx]}_{li}_{row}.mp3'\n",
    "        file_path = os.path.join(au_path, file_name)\n",
    "        myobj.save(file_path)        "
   ]
  },
  {
   "cell_type": "code",
   "execution_count": null,
   "id": "76b9cf6e",
   "metadata": {},
   "outputs": [],
   "source": []
  }
 ],
 "metadata": {
  "kernelspec": {
   "display_name": "Python 3 (ipykernel)",
   "language": "python",
   "name": "python3"
  },
  "language_info": {
   "codemirror_mode": {
    "name": "ipython",
    "version": 3
   },
   "file_extension": ".py",
   "mimetype": "text/x-python",
   "name": "python",
   "nbconvert_exporter": "python",
   "pygments_lexer": "ipython3",
   "version": "3.10.6"
  },
  "toc": {
   "base_numbering": 1,
   "nav_menu": {},
   "number_sections": false,
   "sideBar": true,
   "skip_h1_title": false,
   "title_cell": "Table of Contents",
   "title_sidebar": "Contents",
   "toc_cell": false,
   "toc_position": {},
   "toc_section_display": true,
   "toc_window_display": false
  }
 },
 "nbformat": 4,
 "nbformat_minor": 5
}
