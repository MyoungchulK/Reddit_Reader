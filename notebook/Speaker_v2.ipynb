{
 "cells": [
  {
   "cell_type": "code",
   "execution_count": 1,
   "id": "b17345fd",
   "metadata": {},
   "outputs": [],
   "source": [
    "import os\n",
    "import pandas as pd\n",
    "from tqdm import tqdm\n",
    "from gtts import gTTS"
   ]
  },
  {
   "cell_type": "code",
   "execution_count": 2,
   "id": "4fb6e09b",
   "metadata": {},
   "outputs": [
    {
     "data": {
      "text/plain": [
       "(['top_post_month_2024_06_16_08_28_08',\n",
       "  'top_post_month_2024_06_16_12_36_48',\n",
       "  'top_post_month_2024_06_16_12_35_13',\n",
       "  'top_post_month_2024_06_16_12_47_25'],\n",
       " ['/Users/mkim/code/Reddit_Reader/csv/top_post_month_2024_06_16_08_28_08.csv',\n",
       "  '/Users/mkim/code/Reddit_Reader/csv/top_post_month_2024_06_16_12_36_48.csv',\n",
       "  '/Users/mkim/code/Reddit_Reader/csv/top_post_month_2024_06_16_12_35_13.csv',\n",
       "  '/Users/mkim/code/Reddit_Reader/csv/top_post_month_2024_06_16_12_47_25.csv'])"
      ]
     },
     "execution_count": 2,
     "metadata": {},
     "output_type": "execute_result"
    }
   ],
   "source": [
    "dat_path = '../csv/'\n",
    "dat_list = os.listdir(dat_path)\n",
    "dat_list_name = [os.path.splitext(dats)[0] for dats in dat_list]\n",
    "dat_list_path = [os.path.abspath(os.path.join(dat_path, dats)) for dats in dat_list]\n",
    "dat_list_name, dat_list_path"
   ]
  },
  {
   "cell_type": "code",
   "execution_count": 3,
   "id": "92413019",
   "metadata": {},
   "outputs": [
    {
     "data": {
      "text/plain": [
       "(Index(['title', 'post_text', 'id', 'score', 'total_comments', 'post_url',\n",
       "        'comments'],\n",
       "       dtype='object'),\n",
       " (42, 7))"
      ]
     },
     "execution_count": 3,
     "metadata": {},
     "output_type": "execute_result"
    }
   ],
   "source": [
    "file_idx = -1\n",
    "posts_df = pd.read_csv(dat_list_path[file_idx], index_col = 0)\n",
    "posts_df.columns, posts_df.shape"
   ]
  },
  {
   "cell_type": "code",
   "execution_count": 11,
   "id": "601d80e9",
   "metadata": {},
   "outputs": [
    {
     "name": "stderr",
     "output_type": "stream",
     "text": [
      " 38%|████████████████▍                          | 16/42 [00:04<00:07,  3.59it/s]"
     ]
    },
    {
     "name": "stdout",
     "output_type": "stream",
     "text": [
      "title             Started getting errors on submission.mod.remov...\n",
      "post_text         prawcore.exceptions.BadRequest: received 400 H...\n",
      "id                                                          1cxjmsq\n",
      "score                                                             3\n",
      "total_comments                                                    0\n",
      "post_url          https://www.reddit.com/r/redditdev/comments/1c...\n",
      "comments                                                         []\n",
      "Name: 15, dtype: object\n"
     ]
    },
    {
     "name": "stderr",
     "output_type": "stream",
     "text": [
      " 43%|██████████████████▍                        | 18/42 [01:03<02:26,  6.09s/it]"
     ]
    },
    {
     "name": "stdout",
     "output_type": "stream",
     "text": [
      "title             subreddit.flair.templates suddenly raises \"pra...\n",
      "post_text         **Edit:**\\n\\n**Everything to do with flairs** ...\n",
      "id                                                          1da3upv\n",
      "score                                                             2\n",
      "total_comments                                                    0\n",
      "post_url          https://www.reddit.com/r/redditdev/comments/1d...\n",
      "comments                                                         []\n",
      "Name: 17, dtype: object\n"
     ]
    },
    {
     "name": "stderr",
     "output_type": "stream",
     "text": [
      " 48%|████████████████████▍                      | 20/42 [01:28<02:45,  7.51s/it]"
     ]
    },
    {
     "name": "stdout",
     "output_type": "stream",
     "text": [
      "title             [ASYNCpraw] modmail_conversations() not sortin...\n",
      "post_text         when I use the sample code from the docs, it o...\n",
      "id                                                          1d328ww\n",
      "score                                                             2\n",
      "total_comments                                                    0\n",
      "post_url          https://www.reddit.com/r/redditdev/comments/1d...\n",
      "comments                                                         []\n",
      "Name: 19, dtype: object\n"
     ]
    },
    {
     "name": "stderr",
     "output_type": "stream",
     "text": [
      " 95%|████████████████████████████████████████▉  | 40/42 [06:12<00:20, 10.09s/it]"
     ]
    },
    {
     "name": "stdout",
     "output_type": "stream",
     "text": [
      "title             Is it possible to extract bio links with praw?...\n",
      "post_text                                                        ^^\n",
      "id                                                          1cu0gfr\n",
      "score                                                             0\n",
      "total_comments                                                    1\n",
      "post_url          https://www.reddit.com/r/redditdev/comments/1c...\n",
      "comments          [\"Updates: it isn't, only available via privat...\n",
      "Name: 40, dtype: object\n"
     ]
    },
    {
     "name": "stderr",
     "output_type": "stream",
     "text": [
      "100%|███████████████████████████████████████████| 42/42 [06:18<00:00,  9.00s/it]"
     ]
    },
    {
     "name": "stdout",
     "output_type": "stream",
     "text": [
      "title                             How to download video from reddit\n",
      "post_text         How would I go about downloading a video off o...\n",
      "id                                                          1d2vgup\n",
      "score                                                             0\n",
      "total_comments                                                    0\n",
      "post_url          https://www.reddit.com/r/redditdev/comments/1d...\n",
      "comments                                                         []\n",
      "Name: 41, dtype: object\n"
     ]
    },
    {
     "name": "stderr",
     "output_type": "stream",
     "text": [
      "\n"
     ]
    }
   ],
   "source": [
    "language = 'en'\n",
    "au_path = os.path.abspath('../audio')\n",
    "lists = ['title', 'post_text', 'comments']\n",
    "\n",
    "for row in tqdm(range(posts_df.shape[0])):\n",
    "    #if row < 15: continue\n",
    "    rows = posts_df.iloc[row]\n",
    "    for li in lists:\n",
    "        if len(rows[li]) < 3:\n",
    "            print(rows)\n",
    "            continue\n",
    "        myobj = gTTS(text = rows[li], lang = language)\n",
    "        \n",
    "        file_name = f'{dat_list_name[file_idx]}_{li}_{row}.mp3'\n",
    "        file_path = os.path.join(au_path, file_name)\n",
    "        myobj.save(file_path)        "
   ]
  },
  {
   "cell_type": "code",
   "execution_count": null,
   "id": "76b9cf6e",
   "metadata": {},
   "outputs": [],
   "source": []
  }
 ],
 "metadata": {
  "kernelspec": {
   "display_name": "Python 3 (ipykernel)",
   "language": "python",
   "name": "python3"
  },
  "language_info": {
   "codemirror_mode": {
    "name": "ipython",
    "version": 3
   },
   "file_extension": ".py",
   "mimetype": "text/x-python",
   "name": "python",
   "nbconvert_exporter": "python",
   "pygments_lexer": "ipython3",
   "version": "3.10.6"
  },
  "toc": {
   "base_numbering": 1,
   "nav_menu": {},
   "number_sections": false,
   "sideBar": true,
   "skip_h1_title": false,
   "title_cell": "Table of Contents",
   "title_sidebar": "Contents",
   "toc_cell": false,
   "toc_position": {},
   "toc_section_display": true,
   "toc_window_display": false
  }
 },
 "nbformat": 4,
 "nbformat_minor": 5
}
